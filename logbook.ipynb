{
 "cells": [
  {
   "cell_type": "code",
   "execution_count": 2,
   "metadata": {},
   "outputs": [],
   "source": [
    "import logbook"
   ]
  },
  {
   "attachments": {},
   "cell_type": "markdown",
   "metadata": {},
   "source": [
    "### Week 1"
   ]
  },
  {
   "cell_type": "code",
   "execution_count": 2,
   "metadata": {},
   "outputs": [
    {
     "name": "stdout",
     "output_type": "stream",
     "text": [
      "number of words is 27 ,should be between 20 - 50 words\n",
      "words that may be misspelled : ['msib', 'th', 'atended', 'onboarding']\n"
     ]
    }
   ],
   "source": [
    "Feb16 = logbook.write('''Today is the beginning of MSIB program, at this day I atended national onboarding program \n",
    "                        16 Feb 2021 - National onboarding program for MSIB student 4th generation at 2 PM (WITA)'''\n",
    "                     ,type_='daily')"
   ]
  },
  {
   "cell_type": "code",
   "execution_count": 3,
   "metadata": {},
   "outputs": [
    {
     "name": "stdout",
     "output_type": "stream",
     "text": [
      "number of words is 32 ,should be between 20 - 50 words\n",
      "words that may be misspelled : None\n"
     ]
    }
   ],
   "source": [
    "Feb17 = logbook.write('''Today i have two schedule from bangkit, that is technical briefing and life path session\n",
    "                        9:00-11:00 (WITA) - I attended technical briefing for bangkit 2023 students\n",
    "                        15:00-17:00 (WITA) - I attended life path session for bangkit 2023 students'''\n",
    "                    ,type_='daily')"
   ]
  },
  {
   "cell_type": "code",
   "execution_count": 4,
   "metadata": {},
   "outputs": [
    {
     "name": "stdout",
     "output_type": "stream",
     "text": [
      "number of words is 101 ,should be between 100 - 150 words\n",
      "words that may be misspelled : ['github', 'menjadi', 'belajar', 's', 'msib', 'memulai', 'pengenalan', 'dasar', 'stundents', 'logika', 'pengembang', 'pemrograman', 'onboarding']\n"
     ]
    }
   ],
   "source": [
    "weeklyReport1 = logbook.write('''On the first day of this week i attended tha national onboarding program for MSIB\n",
    "                                batch 4. The next day i attended technical briefing for bangkit 2023 stundents at 9 am. \n",
    "                                On the same day, i attended life path session for bangkit 2023 students at 3 pm.\n",
    "                                This week's activities gave me the spirit to complete the bangkit 2023 program. I also\n",
    "                                have given dicoding token to acces some classes in dicoding platform. The classes are :\n",
    "                                \"Memulai Dasar Pemrograman untuk Menjadi Pengembang Software\", \"Pengenalan ke \n",
    "                                Logika Pemrograman (Programming Logic 101)\" and \"Belajar Dasar Git dengan GitHub\".\n",
    "                                I have finished all that classes until sunday at this week''')"
   ]
  },
  {
   "attachments": {},
   "cell_type": "markdown",
   "metadata": {},
   "source": [
    "### Week 2"
   ]
  },
  {
   "cell_type": "code",
   "execution_count": 5,
   "metadata": {},
   "outputs": [
    {
     "name": "stdout",
     "output_type": "stream",
     "text": [
      "number of words is 25 ,should be between 20 - 50 words\n",
      "words that may be misspelled : ['aulia', 'jati']\n"
     ]
    }
   ],
   "source": [
    "Feb20 = logbook.write('''11:00 - 12:00 (WITA) - I attended opening session of bangkit 2023 at youtube platform\n",
    "                        16:30 - 17:30 (WITA) - I attended weekly consultation with my mentor Lusi Aulia Jati \n",
    "                        at google meet platform''',\n",
    "                     type_='daily')"
   ]
  },
  {
   "cell_type": "code",
   "execution_count": 6,
   "metadata": {},
   "outputs": [
    {
     "name": "stdout",
     "output_type": "stream",
     "text": [
      "number of words is 30 ,should be between 20 - 50 words\n",
      "words that may be misspelled : ['activy', 's']\n"
     ]
    }
   ],
   "source": [
    "Feb21 = logbook.write('''Today i dont have official activy from bangkit but i got new token from dicoding\n",
    "                        to access new classes, so today's activity is making some progress on that classes''',\n",
    "                     type_='daily')"
   ]
  },
  {
   "cell_type": "code",
   "execution_count": 7,
   "metadata": {},
   "outputs": [
    {
     "name": "stdout",
     "output_type": "stream",
     "text": [
      "number of words is 24 ,should be between 20 - 50 words\n",
      "words that may be misspelled : ['nathanael', 'pribady']\n"
     ]
    }
   ],
   "source": [
    "Feb22 = logbook.write('''10:00 - 12:00 (WITA) - I attended first meeting of ILT soft skill with instructor \n",
    "                        Nathanael Pribady with the topic is \"Growth Mindset and The Power of Feedback\"''',\n",
    "                     type_='daily')"
   ]
  },
  {
   "cell_type": "code",
   "execution_count": 8,
   "metadata": {},
   "outputs": [
    {
     "name": "stdout",
     "output_type": "stream",
     "text": [
      "number of words is 29 ,should be between 20 - 50 words\n",
      "words that may be misspelled : None\n"
     ]
    }
   ],
   "source": [
    "Feb23 = logbook.write('''Today i dont have official activity from bangkit, but the soft skill instructor give us\n",
    "                        an assignment. So today is making some progress on dicoding classes and the assignment''',\n",
    "                     type_='daily')"
   ]
  },
  {
   "cell_type": "code",
   "execution_count": 9,
   "metadata": {},
   "outputs": [
    {
     "name": "stdout",
     "output_type": "stream",
     "text": [
      "number of words is 25 ,should be between 20 - 50 words\n",
      "words that may be misspelled : None\n"
     ]
    }
   ],
   "source": [
    "Feb24 = logbook.write('''Today i dont have official activity from bangkit. So today still the same with yesterday\n",
    "                        , and today i have finished all the class on dicoding''',\n",
    "                     type_='daily')"
   ]
  },
  {
   "cell_type": "code",
   "execution_count": 10,
   "metadata": {},
   "outputs": [
    {
     "name": "stdout",
     "output_type": "stream",
     "text": [
      "number of words is 103 ,should be between 100 - 150 words\n",
      "words that may be misspelled : ['consutation']\n"
     ]
    }
   ],
   "source": [
    "weeklyReport2 = logbook.write('''This week i attend weekly consultation with mentor at monday 10 am. The weekly consutation\n",
    "                                ran well and fun, and i think my mentor is a kind person. At tuesday i dont have any activity \n",
    "                                from bangkit, but i got an email from dicoding about new class token. At Wednesday, i attend \n",
    "                                ILT soft skill with the instructor and he give an assignment\n",
    "                                about growth mindset. The assignment consist of 10 multiple choice question and 1 essay. \n",
    "                                I have answered half of the multiple choice question as for today (Friday, 24 Feb).\n",
    "                                This week i also have finished all the dicoding classes that given from Tuesday (21 Feb).\n",
    "                                ''')"
   ]
  },
  {
   "attachments": {},
   "cell_type": "markdown",
   "metadata": {},
   "source": [
    "### Week 3"
   ]
  },
  {
   "cell_type": "code",
   "execution_count": 11,
   "metadata": {},
   "outputs": [
    {
     "name": "stdout",
     "output_type": "stream",
     "text": [
      "number of words is 28 ,should be between 20 - 50 words\n",
      "words that may be misspelled : None\n"
     ]
    }
   ],
   "source": [
    "Feb27 = logbook.write('''Today i dont have official activity from bangkit. But from last week ILT session , the\n",
    "                        instructor give an assignment. So today i finishing the assignment and submit it''',\n",
    "                        type_='daily')"
   ]
  },
  {
   "cell_type": "code",
   "execution_count": 12,
   "metadata": {},
   "outputs": [
    {
     "name": "stdout",
     "output_type": "stream",
     "text": [
      "number of words is 22 ,should be between 20 - 50 words\n",
      "words that may be misspelled : None\n"
     ]
    }
   ],
   "source": [
    "Feb28 = logbook.write('''Today i only have one schedule, that is weekly consultation with my mentor, kak Lusi\n",
    "                        9:00-10:00(WITA) - I attended weekly consultation with mentor''',\n",
    "                        type_='daily')"
   ]
  },
  {
   "cell_type": "code",
   "execution_count": 13,
   "metadata": {},
   "outputs": [
    {
     "name": "stdout",
     "output_type": "stream",
     "text": [
      "number of words is 29 ,should be between 20 - 50 words\n",
      "words that may be misspelled : ['hidayaturrahman', 'mr', 'github']\n"
     ]
    }
   ],
   "source": [
    "Mar01 = logbook.write('''Today i only have one schedule, that is ML ILT session with instructor , Mr. Hidayaturrahman\n",
    "                        14:00-16:00 (WITA) - I attended ML ILT session with the topic \"Introduction to Python & Git/GitHub\"''',\n",
    "                     type_='daily')"
   ]
  },
  {
   "cell_type": "code",
   "execution_count": 14,
   "metadata": {},
   "outputs": [
    {
     "name": "stdout",
     "output_type": "stream",
     "text": [
      "number of words is 42 ,should be between 20 - 50 words\n",
      "words that may be misspelled : None\n"
     ]
    }
   ],
   "source": [
    "Mar02 = logbook.write('''Today i dont have official activity from bangkit. But from last week i got access to coursera\n",
    "                        courses. So far , i already finished \"Crash Course on Python\" and today i continue to next \n",
    "                        course \"Using Python to Interact with the Operating System\" ''',\n",
    "                        type_='daily')"
   ]
  },
  {
   "cell_type": "code",
   "execution_count": 15,
   "metadata": {},
   "outputs": [
    {
     "name": "stdout",
     "output_type": "stream",
     "text": [
      "number of words is 38 ,should be between 20 - 50 words\n",
      "words that may be misspelled : None\n"
     ]
    }
   ],
   "source": [
    "Mar03 = logbook.write('''Today i have 2 activity from bangkit. One is mandatory and the other one is not mandatory\n",
    "                        10:00-11:00(WITA) - [Mandatory] I did the english pre-test from bangkit.\n",
    "                        16:30-18:00(WITA) - [Non-Mandatory] I joined guest speaker session #1 at bangkit youtube channel''',\n",
    "                        type_='daily')"
   ]
  },
  {
   "cell_type": "code",
   "execution_count": 2,
   "metadata": {},
   "outputs": [
    {
     "name": "stdout",
     "output_type": "stream",
     "text": [
      "number of words is 119 ,should be between 100 - 150 words\n",
      "words that may be misspelled : ['nugraha', 'hidayaturrahman', 'afternoon', 'github', 'deeptechid', 'sakti']\n"
     ]
    }
   ],
   "source": [
    "weeklyReport3 = logbook.write('''This week , i attended weekly consultation with mentor , kak Lusi at Tuesday (9 AM). In\n",
    "                                 the next day (2 PM), i attended ML ILT session with instructor, Hidayaturrahman. We discuss \n",
    "                                 about Python and Git/Github at that ILT session. At Friday , i had english pre-test start\n",
    "                                 from 9 AM until 6 PM. I did the english pre-test at 10 AM. In the afternoon of the same day \n",
    "                                 (4 PM) ,i attended guest speaker session at bangkit youtube channel. The speaker at this session\n",
    "                                 is Giovanni Sakti Nugraha, Co-founder DeepTechID Foundation. In this session, the speaker talks \n",
    "                                 about \"Skill that Last a Lifetime\". At this week, i also done the assignment given from last\n",
    "                                 SS ILT session and done a course in coursera.\n",
    "                                ''')"
   ]
  },
  {
   "attachments": {},
   "cell_type": "markdown",
   "metadata": {},
   "source": [
    "### Week 4"
   ]
  },
  {
   "cell_type": "code",
   "execution_count": 4,
   "metadata": {},
   "outputs": [
    {
     "name": "stdout",
     "output_type": "stream",
     "text": [
      "number of words is 25 ,should be between 20 - 50 words\n",
      "words that may be misspelled : None\n"
     ]
    }
   ],
   "source": [
    "Mar06 = logbook.write('''Today is the deadline of first mandatory courses in coursera, and i had finished them\n",
    "                        before the deadline and submit the certificates on google forms''',\n",
    "                      type_='daily')"
   ]
  },
  {
   "cell_type": "code",
   "execution_count": 5,
   "metadata": {},
   "outputs": [
    {
     "name": "stdout",
     "output_type": "stream",
     "text": [
      "number of words is 22 ,should be between 20 - 50 words\n",
      "words that may be misspelled : None\n"
     ]
    }
   ],
   "source": [
    "Mar07 = logbook.write('''Today i only have one schedule, that is weekly consultation with my mentor, kak Lusi\n",
    "                        9:00-10:00(WITA) - I attended weekly consultation with mentor''',\n",
    "                      type_='daily')"
   ]
  },
  {
   "cell_type": "code",
   "execution_count": 7,
   "metadata": {},
   "outputs": [
    {
     "name": "stdout",
     "output_type": "stream",
     "text": [
      "number of words is 23 ,should be between 20 - 50 words\n",
      "words that may be misspelled : ['analitics']\n"
     ]
    }
   ],
   "source": [
    "Mar08 = logbook.write('''This week i got assignment on google classroom to finish second mandatory courses\n",
    "                        on coursera. So far i have finished 2 \"Data Analitics\" courses''',\n",
    "                      type_='daily')"
   ]
  },
  {
   "cell_type": "code",
   "execution_count": 8,
   "metadata": {},
   "outputs": [
    {
     "name": "stdout",
     "output_type": "stream",
     "text": [
      "number of words is 24 ,should be between 20 - 50 words\n",
      "words that may be misspelled : None\n"
     ]
    }
   ],
   "source": [
    "Mar09 = logbook.write('''Today i continue the \"Data Analytics\" course , i have finished one more course today\n",
    "                        ,so i already finish 3 of 6 mandatory courses on \"Data Analytics\"''',\n",
    "                      type_='daily')"
   ]
  },
  {
   "cell_type": "code",
   "execution_count": 9,
   "metadata": {},
   "outputs": [
    {
     "name": "stdout",
     "output_type": "stream",
     "text": [
      "number of words is 30 ,should be between 20 - 50 words\n",
      "words that may be misspelled : None\n"
     ]
    }
   ],
   "source": [
    "Mar10 = logbook.write('''Today i have 2 activity from bangkit, one is mandatory and other one is not\n",
    "                        16:30-17:30(WITA) - I Joined Guest Speaker Session #2 on Youtube\n",
    "                        19:30-21:30(WITA) - I attended ILT SS 2 about time management''',\n",
    "                      type_='daily')"
   ]
  },
  {
   "cell_type": "code",
   "execution_count": 17,
   "metadata": {},
   "outputs": [
    {
     "name": "stdout",
     "output_type": "stream",
     "text": [
      "number of words is 104 ,should be between 100 - 150 words\n",
      "words that may be misspelled : ['fikri', 'kawakibi', 'huda', 't']\n"
     ]
    }
   ],
   "source": [
    "weeklyReport4 = logbook.write('''This week , i started \"Data Analytics\" courses in coursera. So far , i have\n",
    "                                finished 3 of 6 mandatory courses. I didn't submit the certificates on the google\n",
    "                                forms yet, i wait to finish all the courses. The weekly consultation this week with mentor, \n",
    "                                kak Lusi still ran on the same day and time as last week (Tuesday, 9 am - 10 am). I also got \n",
    "                                a session of ILT SS 2 with instructor Muhammad Fikri Kawakibi Huda at Friday \n",
    "                                (19:30 - 21:30). It was my very first evening ILT Session. The ILT SS session was \n",
    "                                about time management and same as last ILT SS session, we given an assignment on google \n",
    "                                classroom.''')"
   ]
  },
  {
   "cell_type": "markdown",
   "metadata": {},
   "source": []
  },
  {
   "cell_type": "code",
   "execution_count": null,
   "metadata": {},
   "outputs": [],
   "source": []
  }
 ],
 "metadata": {
  "kernelspec": {
   "display_name": "Python 3",
   "language": "python",
   "name": "python3"
  },
  "language_info": {
   "codemirror_mode": {
    "name": "ipython",
    "version": 3
   },
   "file_extension": ".py",
   "mimetype": "text/x-python",
   "name": "python",
   "nbconvert_exporter": "python",
   "pygments_lexer": "ipython3",
   "version": "3.10.3"
  },
  "orig_nbformat": 4,
  "vscode": {
   "interpreter": {
    "hash": "7a6ff1ec4becc2c762872846b6a95fee1120f1b534184eb0e8f65a45fb7fadc7"
   }
  }
 },
 "nbformat": 4,
 "nbformat_minor": 2
}

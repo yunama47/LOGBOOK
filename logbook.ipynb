{
 "cells": [
  {
   "cell_type": "code",
   "execution_count": 1,
   "metadata": {},
   "outputs": [],
   "source": [
    "import logbook"
   ]
  },
  {
   "attachments": {},
   "cell_type": "markdown",
   "metadata": {},
   "source": [
    "### Week 1"
   ]
  },
  {
   "cell_type": "code",
   "execution_count": 2,
   "metadata": {},
   "outputs": [
    {
     "name": "stdout",
     "output_type": "stream",
     "text": [
      "number of words is 13 ,should be between 20 - 50 words\n",
      "words that may be misspelled :  {'th', 'pm', 'onboarding', 'wita', 'atended', 'msib'}\n"
     ]
    }
   ],
   "source": [
    "# 16 Feb 2023\n",
    "Feb16 = logbook.words_counter(\"I atended national onboarding program for MSIB student 4th generation at 2 PM (WITA)\"\n",
    "                              ,type_='daily')"
   ]
  },
  {
   "cell_type": "code",
   "execution_count": 3,
   "metadata": {},
   "outputs": [
    {
     "name": "stdout",
     "output_type": "stream",
     "text": [
      "number of words is 17 ,should be between 20 - 50 words\n",
      "words that may be misspelled :  {'bangkit', 'wita'}\n"
     ]
    }
   ],
   "source": [
    "# 17 Feb 2023\n",
    "Feb17 = logbook.words_counter('''9:00-11:00 (WITA) - I attended technical briefing for bangkit 2023 students\n",
    "                                 15:00-17:00 (WITA) - I attended life path session for bangkit 2023 students'''\n",
    "                                ,type_='daily')"
   ]
  },
  {
   "cell_type": "code",
   "execution_count": 4,
   "metadata": {},
   "outputs": [
    {
     "name": "stdout",
     "output_type": "stream",
     "text": [
      "number of words is 100 ,should be between 100 - 150 words\n",
      "words that may be misspelled :  {'pm', 'pengenalan', 'stundents', 'onboarding', 'bangkit', 'dasar', 'github', 'pemrograman', 'menjadi', 'dicoding', 'logika', 'pengembang', 'memulai', 'msib', 'belajar'}\n"
     ]
    }
   ],
   "source": [
    "weeklyReport1 = logbook.words_counter('''On the first day of this week i attended tha national onboarding program for MSIB\n",
    "                                    batch 4. The next day i attended technical briefing for bangkit 2023 stundents at 9 am. \n",
    "                                    On the same day, i attended life path session for bangkit 2023 students at 3 pm.\n",
    "                                    This week's activities gave me the spirit to complete the bangkit 2023 program. I also\n",
    "                                    have given dicoding token to acces some classes in dicoding platform. The classes are :\n",
    "                                    \"Memulai Dasar Pemrograman untuk Menjadi Pengembang Software\", \"Pengenalan ke \n",
    "                                    Logika Pemrograman (Programming Logic 101)\" and \"Belajar Dasar Git dengan GitHub\".\n",
    "                                    I have finished all that classes until sunday at this week''')"
   ]
  },
  {
   "attachments": {},
   "cell_type": "markdown",
   "metadata": {},
   "source": [
    "### Week 2"
   ]
  },
  {
   "cell_type": "code",
   "execution_count": 5,
   "metadata": {},
   "outputs": [
    {
     "name": "stdout",
     "output_type": "stream",
     "text": [
      "number of words is 25 ,should be between 20 - 50 words\n",
      "words that may be misspelled :  {'lusi', 'bangkit', 'wita', 'aulia', 'jati'}\n"
     ]
    }
   ],
   "source": [
    "# 20 Feb 2023\n",
    "Feb20 = logbook.words_counter('''11:00 - 12:00 (WITA) - I attended opening session of bangkit 2023 at youtube platform\n",
    "                                 16:30 - 17:30 (WITA) - I attended weekly consultation with my mentor Lusi Aulia Jati \n",
    "                                 at google meet platform''',\n",
    "                              type_='daily')"
   ]
  },
  {
   "cell_type": "code",
   "execution_count": 6,
   "metadata": {},
   "outputs": [
    {
     "name": "stdout",
     "output_type": "stream",
     "text": [
      "number of words is 29 ,should be between 20 - 50 words\n",
      "words that may be misspelled :  {'todays', 'bangkit', 'dicoding', 'activy'}\n"
     ]
    }
   ],
   "source": [
    "# 21 Feb 2023\n",
    "Feb21 = logbook.words_counter('''Today i dont have official activy from bangkit but i got new token from dicoding\n",
    "                                 to access new classes, so today's activity is making some progress on that classes''',\n",
    "                              type_='daily')"
   ]
  },
  {
   "cell_type": "code",
   "execution_count": 8,
   "metadata": {},
   "outputs": [
    {
     "name": "stdout",
     "output_type": "stream",
     "text": [
      "number of words is 24 ,should be between 20 - 50 words\n",
      "words that may be misspelled :  {'pribady', 'ilt', 'wita', 'nathanael'}\n"
     ]
    }
   ],
   "source": [
    "# 22 Feb 2023\n",
    "Feb22 = logbook.words_counter('''10:00 - 12:00 (WITA) - I attended first meeting of ILT soft skill with instructor \n",
    "                                 Nathanael Pribady with the topic is \"Growth Mindset and The Power of Feedback\"''',\n",
    "                              type_='daily')"
   ]
  },
  {
   "cell_type": "code",
   "execution_count": null,
   "metadata": {},
   "outputs": [],
   "source": []
  }
 ],
 "metadata": {
  "kernelspec": {
   "display_name": "Python 3",
   "language": "python",
   "name": "python3"
  },
  "language_info": {
   "codemirror_mode": {
    "name": "ipython",
    "version": 3
   },
   "file_extension": ".py",
   "mimetype": "text/x-python",
   "name": "python",
   "nbconvert_exporter": "python",
   "pygments_lexer": "ipython3",
   "version": "3.10.3"
  },
  "orig_nbformat": 4,
  "vscode": {
   "interpreter": {
    "hash": "7a6ff1ec4becc2c762872846b6a95fee1120f1b534184eb0e8f65a45fb7fadc7"
   }
  }
 },
 "nbformat": 4,
 "nbformat_minor": 2
}

{
 "cells": [
  {
   "cell_type": "code",
   "execution_count": 2,
   "metadata": {},
   "outputs": [],
   "source": [
    "import logbook"
   ]
  },
  {
   "attachments": {},
   "cell_type": "markdown",
   "metadata": {},
   "source": [
    "### Week 1"
   ]
  },
  {
   "cell_type": "code",
   "execution_count": 2,
   "metadata": {},
   "outputs": [
    {
     "name": "stdout",
     "output_type": "stream",
     "text": [
      "number of words is 13 ,should be between 20 - 50 words\n",
      "words that may be misspelled :  {'th', 'pm', 'onboarding', 'wita', 'atended', 'msib'}\n"
     ]
    }
   ],
   "source": [
    "Feb16 = logbook.words_counter(\"I atended national onboarding program for MSIB student 4th generation at 2 PM (WITA)\"\n",
    "                              ,type_='daily')"
   ]
  },
  {
   "cell_type": "code",
   "execution_count": 3,
   "metadata": {},
   "outputs": [
    {
     "name": "stdout",
     "output_type": "stream",
     "text": [
      "number of words is 17 ,should be between 20 - 50 words\n",
      "words that may be misspelled :  {'bangkit', 'wita'}\n"
     ]
    }
   ],
   "source": [
    "Feb17 = logbook.words_counter('''9:00-11:00 (WITA) - I attended technical briefing for bangkit 2023 students\n",
    "                                 15:00-17:00 (WITA) - I attended life path session for bangkit 2023 students'''\n",
    "                                ,type_='daily')"
   ]
  },
  {
   "cell_type": "code",
   "execution_count": 4,
   "metadata": {},
   "outputs": [
    {
     "name": "stdout",
     "output_type": "stream",
     "text": [
      "number of words is 100 ,should be between 100 - 150 words\n",
      "words that may be misspelled :  {'pm', 'pengenalan', 'stundents', 'onboarding', 'bangkit', 'dasar', 'github', 'pemrograman', 'menjadi', 'dicoding', 'logika', 'pengembang', 'memulai', 'msib', 'belajar'}\n"
     ]
    }
   ],
   "source": [
    "weeklyReport1 = logbook.words_counter('''On the first day of this week i attended tha national onboarding program for MSIB\n",
    "                                    batch 4. The next day i attended technical briefing for bangkit 2023 stundents at 9 am. \n",
    "                                    On the same day, i attended life path session for bangkit 2023 students at 3 pm.\n",
    "                                    This week's activities gave me the spirit to complete the bangkit 2023 program. I also\n",
    "                                    have given dicoding token to acces some classes in dicoding platform. The classes are :\n",
    "                                    \"Memulai Dasar Pemrograman untuk Menjadi Pengembang Software\", \"Pengenalan ke \n",
    "                                    Logika Pemrograman (Programming Logic 101)\" and \"Belajar Dasar Git dengan GitHub\".\n",
    "                                    I have finished all that classes until sunday at this week''')"
   ]
  },
  {
   "attachments": {},
   "cell_type": "markdown",
   "metadata": {},
   "source": [
    "### Week 2"
   ]
  },
  {
   "cell_type": "code",
   "execution_count": 5,
   "metadata": {},
   "outputs": [
    {
     "name": "stdout",
     "output_type": "stream",
     "text": [
      "number of words is 25 ,should be between 20 - 50 words\n",
      "words that may be misspelled :  {'lusi', 'bangkit', 'wita', 'aulia', 'jati'}\n"
     ]
    }
   ],
   "source": [
    "Feb20 = logbook.words_counter('''11:00 - 12:00 (WITA) - I attended opening session of bangkit 2023 at youtube platform\n",
    "                                 16:30 - 17:30 (WITA) - I attended weekly consultation with my mentor Lusi Aulia Jati \n",
    "                                 at google meet platform''',\n",
    "                              type_='daily')"
   ]
  },
  {
   "cell_type": "code",
   "execution_count": 6,
   "metadata": {},
   "outputs": [
    {
     "name": "stdout",
     "output_type": "stream",
     "text": [
      "number of words is 29 ,should be between 20 - 50 words\n",
      "words that may be misspelled :  {'todays', 'bangkit', 'dicoding', 'activy'}\n"
     ]
    }
   ],
   "source": [
    "Feb21 = logbook.words_counter('''Today i dont have official activy from bangkit but i got new token from dicoding\n",
    "                                 to access new classes, so today's activity is making some progress on that classes''',\n",
    "                              type_='daily')"
   ]
  },
  {
   "cell_type": "code",
   "execution_count": 8,
   "metadata": {},
   "outputs": [
    {
     "name": "stdout",
     "output_type": "stream",
     "text": [
      "number of words is 24 ,should be between 20 - 50 words\n",
      "words that may be misspelled :  {'pribady', 'ilt', 'wita', 'nathanael'}\n"
     ]
    }
   ],
   "source": [
    "Feb22 = logbook.words_counter('''10:00 - 12:00 (WITA) - I attended first meeting of ILT soft skill with instructor \n",
    "                                 Nathanael Pribady with the topic is \"Growth Mindset and The Power of Feedback\"''',\n",
    "                              type_='daily')"
   ]
  },
  {
   "cell_type": "code",
   "execution_count": 5,
   "metadata": {},
   "outputs": [
    {
     "name": "stdout",
     "output_type": "stream",
     "text": [
      "number of words is 29 ,should be between 20 - 50 words\n",
      "words that may be misspelled :  {'todays', 'bangkit', 'dicoding'}\n"
     ]
    }
   ],
   "source": [
    "Feb23 = logbook.words_counter('''Today i dont have official activity from bangkit, but the soft skill instructor give us\n",
    "                                 an assignment. So today is making some progress on dicoding classes and the assignment''',\n",
    "                              type_='daily')"
   ]
  },
  {
   "cell_type": "code",
   "execution_count": 6,
   "metadata": {},
   "outputs": [
    {
     "name": "stdout",
     "output_type": "stream",
     "text": [
      "number of words is 25 ,should be between 20 - 50 words\n",
      "words that may be misspelled :  {'dicoding', 'bangkit'}\n"
     ]
    }
   ],
   "source": [
    "Feb24 = logbook.words_counter('''Today i dont have official activity from bangkit. So today still the same with yesterday\n",
    "                                 , and today i have finished all the class on dicoding''',\n",
    "                              type_='daily')"
   ]
  },
  {
   "cell_type": "code",
   "execution_count": 16,
   "metadata": {},
   "outputs": [
    {
     "name": "stdout",
     "output_type": "stream",
     "text": [
      "number of words is 103 ,should be between 100 - 150 words\n",
      "words that may be misspelled :  {'dicoding', 'consutation', 'ilt', 'bangkit'}\n"
     ]
    }
   ],
   "source": [
    "weeklyReport2 = logbook.words_counter('''This week i attend weekly consultation with mentor at monday 10 am. The weekly consutation\n",
    "                                         ran well and fun, and i think my mentor is a kind person. At tuesday i dont have any activity \n",
    "                                         from bangkit, but i got an email from dicoding about new class token. At Wednesday, i attend \n",
    "                                         ILT soft skill with the instructor and he give an assignment\n",
    "                                         about growth mindset. The assignment consist of 10 multiple choice question and 1 essay. \n",
    "                                         I have answered half of the multiple choice question as for today (Friday, 24 Feb).\n",
    "                                         This week i also have finished all the dicoding classes that given from Tuesday (21 Feb).\n",
    "                                         ''')"
   ]
  },
  {
   "attachments": {},
   "cell_type": "markdown",
   "metadata": {},
   "source": [
    "### Week 3"
   ]
  },
  {
   "cell_type": "markdown",
   "metadata": {},
   "source": []
  }
 ],
 "metadata": {
  "kernelspec": {
   "display_name": "Python 3",
   "language": "python",
   "name": "python3"
  },
  "language_info": {
   "codemirror_mode": {
    "name": "ipython",
    "version": 3
   },
   "file_extension": ".py",
   "mimetype": "text/x-python",
   "name": "python",
   "nbconvert_exporter": "python",
   "pygments_lexer": "ipython3",
   "version": "3.10.3"
  },
  "orig_nbformat": 4,
  "vscode": {
   "interpreter": {
    "hash": "7a6ff1ec4becc2c762872846b6a95fee1120f1b534184eb0e8f65a45fb7fadc7"
   }
  }
 },
 "nbformat": 4,
 "nbformat_minor": 2
}
